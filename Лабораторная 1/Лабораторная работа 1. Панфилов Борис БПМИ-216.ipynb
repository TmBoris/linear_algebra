{
 "cells": [
  {
   "cell_type": "markdown",
   "metadata": {
    "id": "EIuyp8N8r-C7"
   },
   "source": [
    "# Линейная алгебра. Лабораторная работа 1, осень 2021\n"
   ]
  },
  {
   "cell_type": "markdown",
   "metadata": {
    "id": "zjM6eb8Pr-DD"
   },
   "source": [
    "В этой лабораторной работе вы познакомитесь со средой Jupyter Notebook и библиотеками numpy и scipy."
   ]
  },
  {
   "cell_type": "markdown",
   "metadata": {
    "id": "YaJV1GVyr-DE"
   },
   "source": [
    "## Часть 1. Библиотеки"
   ]
  },
  {
   "cell_type": "markdown",
   "metadata": {
    "id": "oM0ZiubOr-DF"
   },
   "source": [
    "В этой лабораторной работе вам понадобятся три библиотеки:\n",
    "\n",
    "- `numpy` - основная библиотека для работы с матрицами;\n",
    "- `scipy`, а точнее модуль `scipy.linalg`, содержащий множество функций линейной алгебры;\n",
    "- `matplotlib` - графическая библиотека\n",
    "\n",
    "Подключить их можно следующим образом:"
   ]
  },
  {
   "cell_type": "code",
   "execution_count": 1,
   "metadata": {
    "id": "5cm7iy1ir-DH"
   },
   "outputs": [],
   "source": [
    "# Запустите этот код\n",
    "import numpy as np\n",
    "\n",
    "import scipy.linalg as sla\n",
    "\n",
    "import matplotlib.pyplot as plt\n",
    "%matplotlib inline"
   ]
  },
  {
   "cell_type": "markdown",
   "metadata": {
    "id": "V8NVWAhvr-DL"
   },
   "source": [
    "Теперь вы можете позвать, скажем, функцию `scipy.linalg.det()` с помощью кода `sla.det()`, а функцию `numpy.exp()` - с помощью кода `np.exp()`."
   ]
  },
  {
   "cell_type": "markdown",
   "metadata": {
    "id": "Pa6Hi2DFr-DM"
   },
   "source": [
    "**Основные объекты и операции линейной алгебры в NumPy и SciPy:**"
   ]
  },
  {
   "cell_type": "markdown",
   "metadata": {
    "id": "L4QhiVOOr-DN"
   },
   "source": [
    "Основной объект, с которым вам придётся работать и в этой, и в следующих лабораторных - это, безусловно, матрицы. В библиотеке `numpy` они представлены классом `numpy.ndarray`. Матрицу можно создать из двумерного (а на самом деле и не только двумерного) массива следующим образом:"
   ]
  },
  {
   "cell_type": "code",
   "execution_count": 32,
   "metadata": {
    "colab": {
     "base_uri": "https://localhost:8080/"
    },
    "id": "TNI8AiJyr-DO",
    "outputId": "c17c188c-1ac1-4c95-ec6a-871e3a393d56"
   },
   "outputs": [
    {
     "name": "stdout",
     "output_type": "stream",
     "text": [
      "[[1 2 3]\n",
      " [4 5 6]]\n",
      "(2, 3)\n"
     ]
    }
   ],
   "source": [
    "# Запустите этот код\n",
    "A = np.array([[1, 2, 3], [4, 5, 6]])\n",
    "\n",
    "print(A)\n",
    "print(A.shape) # пара (число строк, число столбцов)"
   ]
  },
  {
   "cell_type": "markdown",
   "metadata": {
    "id": "tzD9hz20r-DQ"
   },
   "source": [
    "Обратите внимание, что матрица заполняется *по строкам*.\n",
    "\n",
    "Есть и много других конструкторов матриц. Например, единичная матрица размера $n\\times n$ создаётся с помощью функции `numpy.eye(n)`. Со всем многообразием конструкторов можно ознакомиться [на этой странице](https://docs.scipy.org/doc/numpy-1.10.1/reference/routines.array-creation.html)."
   ]
  },
  {
   "cell_type": "markdown",
   "metadata": {
    "id": "dXBis6otr-DR"
   },
   "source": [
    "Зачастую бывает нужно получить доступ к подматрицам данной матрицы, и numpy предоставляет множество удобных средств, как это сделать (вообще данная процедура называется slicing):\n",
    "- элемент с номером `(i,j)`: `A[i,j]`\n",
    "- i-я строка матрицы: `A[i,:]`\n",
    "- j-й столбец матрицы: `A[:,j]`\n",
    "\n",
    "**Внимание!** Оба варианта, и `A[i,:]`, и `A[:,j]` дают не строку или столбец, а одномерный вектор. Если вы хотите получить вектор-строку или вектор-столбец соответственно, используйте вот такой синтаксис: `A[i:i+1,:]`, и `A[:,j:j+1]`\n",
    "- строки с нулевой по i-ю: `A[:i+1,:]`\n",
    "- столбцы с j-го по последний: `A[:,j:]`\n",
    "- строки с i-й по k-ю: `A[i:k,:]`\n",
    "\n",
    "В некоторых случаях нужно получить доступ к (прямоугольной) подматрице, элементы которой находятся на пересечении строк из списка `rows` и столбцов из списка `columns`. В этом случае `A[rows, columns]` даст не то, что вы ожидаете (можете попробовать это сделать сами и увидеть, что получится; только возьмите `rows` и `columns` одного размера). Справиться с этой задачей позволяет код `A[np.ix_(rows, columns)]`"
   ]
  },
  {
   "cell_type": "markdown",
   "metadata": {
    "id": "UBq_ml2yr-DS"
   },
   "source": [
    "*Умножение матриц* производится с помощью функции `np.dot()` либо оператора `@`. Есть три варианта написания: `A.dot(B)` и `np.dot(A, B)`, `A @ B`.\n",
    "\n",
    "Обычные знаки арифметических действий (`+`, `-`, `*`) зарезервированы для поэлементных операций. Например, `A * B` - это матрица, элементами которой являются произведения $A_{ij}B_{ij}$. Помимо этих есть и множество других поэлементных операций. Например, `numpy.exp(A)` - это матрица, элементами которой являются экспоненты элементов матрицы `A`."
   ]
  },
  {
   "cell_type": "markdown",
   "metadata": {
    "id": "fZk9Fcmar-DT"
   },
   "source": [
    "Чтобы получить матрицу, *транспонированную* к матрице `A`, напишите просто `A.T`. "
   ]
  },
  {
   "cell_type": "markdown",
   "metadata": {
    "id": "BklAT3MYr-DT"
   },
   "source": [
    "В некоторых случаях бывает нужно создавать *случайные матрицы*: например, при проведении экспериментов или для инициализации итеративных методов. Средства для этого предоставляет пакет [numpy.random](https://docs.scipy.org/doc/numpy/reference/routines.random.html). Так, `np.random.rand(m,n)` - это матрица $m\\times n$, элементы которой независимо выбраны из равномерного распределения на интервале `[0;1)` "
   ]
  },
  {
   "cell_type": "markdown",
   "metadata": {
    "id": "qEnErjp6r-DU"
   },
   "source": [
    "Для *решения систем линейных уравнений* в пакете `scipy.linalg` есть множество методов, рассмотрение которых выходит за пределы курса линейной алгебры. Мы вам пока предлагаем пользоваться функцией `scipy.linalg.solve`, основанной на методе Гаусса. Отметим, что `scipy.linalg.solve(A, B)` выдаёт решение уравнения $AX = B$ (или ошибку), где $B$ может быть как вектором, так и матрицей.\n",
    "\n",
    "Найти обратную матрицу для матрицы $A$ можно с помощью функции `sla.inv(A)`."
   ]
  },
  {
   "cell_type": "markdown",
   "metadata": {
    "id": "gKccN2XRr-DU"
   },
   "source": [
    "**Копирование сложных объектов в Python**"
   ]
  },
  {
   "cell_type": "markdown",
   "metadata": {
    "id": "hcYma3Ahr-DV"
   },
   "source": [
    "Когда вы делаете присваивание каких-то сложных объектов, как правило оно происходит по ссылке. Например, код\n",
    "```\n",
    "B = A\n",
    "B[0,0] = 10\n",
    "```\n",
    "приведёт к изменению матрицы `A`.\n",
    "\n",
    "Не попадайтесь в эту ловушку! Если вы хотите работать с копией как с независимой матрицей, используйте метод `copy()`:\n",
    "```\n",
    "B = A.copy()\n",
    "```"
   ]
  },
  {
   "cell_type": "markdown",
   "metadata": {
    "id": "skr3SVKir-DW"
   },
   "source": [
    "**Где искать помощь**"
   ]
  },
  {
   "cell_type": "markdown",
   "metadata": {
    "id": "ZwzIfvS_r-DW"
   },
   "source": [
    "Библиотеки `numpy` и `scipy` снабжены прекрасной документацией. Если у вас возникают вопросы о том, как работает та или иная функция (или даже как называется функция, выполняющая то, что вам нужно), вы почти всегда можете найти там ответы.\n",
    "\n",
    "[Ссылка на документацию пакета scipy.linalg](https://docs.scipy.org/doc/scipy-0.18.1/reference/linalg.html)\n",
    "\n",
    "Если у вас возникает какая-то ошибка и вы не можете понять, что вы делаете не так, то\n",
    "\n",
    "1.   В первую очередь попробуйте просто загуглить текст ошибки, наверняка в интернете кто-то уже сталкивался с такой ситуацией;\n",
    "2.   Поспрашивайте своих одногруппников, не было ли у них такой ошибки, и если была -- как они справлялись;\n",
    "3.   Попросите помощи у вашего учебного ассистента.\n",
    "\n",
    "Важно искать помощь именно в таком порядке! Если ни один из шагов выше не помог или вы столкнулись с ситуацией, в которой вам заведомо не поможет ни один из пунктов выше (например, в задании вас просят доказать заведомо ложное утверждение), тогда можете написать сюда: st-fedotov@yandex-team.ru (Станислав Федотов, выступал перед выдачей лабораторной), или сюда: [@johanDDC](https://t.me/johanDDC) (Ваня Пешехонов, ассистент курса).\n",
    "\n"
   ]
  },
  {
   "cell_type": "markdown",
   "metadata": {
    "id": "PggwvCWer-DW"
   },
   "source": [
    "**И всё-таки задание**"
   ]
  },
  {
   "cell_type": "markdown",
   "metadata": {
    "id": "jA4ZWChmr-DX"
   },
   "source": [
    "**Задание 1.1 [0.2 за каждый пункт]** В качестве первого задания мы попросим вас отыскать соответствующие функции в библиотеке и сделать следующее:\n",
    "\n",
    "- создайте нулевую матрицу $Z$ размера $3\\times4$;\n",
    "\n",
    "- создайте диагональную матрицу $5\\times5$ с диагональными элементами 1, 2, 3, 4 и 5;\n",
    "\n",
    "- найдите её след (не силою мысли, а с помощью библиотечных функций, конечно);\n",
    "\n",
    "- найдите обратную к ней матрицу;\n",
    "\n",
    "- сгенерируйте случайную матрицу $X$ размера $4\\times5$;\n",
    "\n",
    "- найдите определитель подматрицы матрицы $X$, расположенной на пересечении 2-й и 3-й строк и 1-го и 2-го столбцов; считаем, что строки и столбцы нумеруются с единицы (используйте slicing!). Такой определитель называется **минором** матрицы $X$;\n",
    "\n",
    "- найдите произведение $X^TX$.\n",
    "\n",
    "Пожалуйста, каждый пункт делайте в новом блоке и не забывайте распечатывать результаты."
   ]
  },
  {
   "cell_type": "markdown",
   "metadata": {
    "id": "O-LRvJlItwR3"
   },
   "source": [
    "<b>Номер 1.1</b>\n",
    "\n",
    "Создайте нулевую матрицу Z размера  3×4"
   ]
  },
  {
   "cell_type": "code",
   "execution_count": 33,
   "metadata": {
    "colab": {
     "base_uri": "https://localhost:8080/"
    },
    "id": "gmrs4RQCr-Db",
    "outputId": "5dbdfae3-1ffd-4112-c0b8-0b8f1b22c1b2"
   },
   "outputs": [
    {
     "data": {
      "text/plain": [
       "array([[0, 0, 0, 0],\n",
       "       [0, 0, 0, 0],\n",
       "       [0, 0, 0, 0]])"
      ]
     },
     "execution_count": 33,
     "metadata": {},
     "output_type": "execute_result"
    }
   ],
   "source": [
    "Z = np.zeros((3,4), dtype=np.int)\n",
    "Z"
   ]
  },
  {
   "cell_type": "markdown",
   "metadata": {
    "id": "N_r0D45lt_Ol"
   },
   "source": [
    "<b>Номер 1.2</b> \n",
    "\n",
    "Создайте диагональную матрицу  5×5  с диагональными элементами 1, 2, 3, 4 и 5"
   ]
  },
  {
   "cell_type": "code",
   "execution_count": 34,
   "metadata": {
    "colab": {
     "base_uri": "https://localhost:8080/"
    },
    "id": "OVMpR6TbwJ-L",
    "outputId": "0d1b0932-08d2-42d4-c0de-152132fc9100"
   },
   "outputs": [
    {
     "data": {
      "text/plain": [
       "array([[1, 0, 0, 0, 0],\n",
       "       [0, 2, 0, 0, 0],\n",
       "       [0, 0, 3, 0, 0],\n",
       "       [0, 0, 0, 4, 0],\n",
       "       [0, 0, 0, 0, 5]])"
      ]
     },
     "execution_count": 34,
     "metadata": {},
     "output_type": "execute_result"
    }
   ],
   "source": [
    "Z = np.diagflat([1, 2, 3, 4, 5])\n",
    "Z"
   ]
  },
  {
   "cell_type": "markdown",
   "metadata": {
    "id": "jQy_aPWUwVjW"
   },
   "source": [
    "<b>Номер 1.3</b>\n",
    "\n",
    "найдите её след (не силою мысли, а с помощью библиотечных функций, конечно)"
   ]
  },
  {
   "cell_type": "code",
   "execution_count": 35,
   "metadata": {
    "colab": {
     "base_uri": "https://localhost:8080/"
    },
    "id": "u35b5nMKwf0R",
    "outputId": "9a7216e7-4a32-4783-ec2f-f1554314981d"
   },
   "outputs": [
    {
     "data": {
      "text/plain": [
       "15"
      ]
     },
     "execution_count": 35,
     "metadata": {},
     "output_type": "execute_result"
    }
   ],
   "source": [
    "np.trace(Z)\n"
   ]
  },
  {
   "cell_type": "markdown",
   "metadata": {
    "id": "TDTj5t1WwuVz"
   },
   "source": [
    "<b>Номер 1.4</b>\n",
    "\n",
    "найдите обратную к ней матрицу"
   ]
  },
  {
   "cell_type": "code",
   "execution_count": 36,
   "metadata": {
    "colab": {
     "base_uri": "https://localhost:8080/"
    },
    "id": "svjJxFyTw2hh",
    "outputId": "43f21f91-0e23-4e38-99b7-56e86e8a7040"
   },
   "outputs": [
    {
     "data": {
      "text/plain": [
       "array([[ 1.        ,  0.        , -0.        ,  0.        , -0.        ],\n",
       "       [ 0.        ,  0.5       , -0.        ,  0.        , -0.        ],\n",
       "       [ 0.        ,  0.        ,  0.33333333,  0.        , -0.        ],\n",
       "       [ 0.        ,  0.        ,  0.        ,  0.25      , -0.        ],\n",
       "       [ 0.        ,  0.        ,  0.        ,  0.        ,  0.2       ]])"
      ]
     },
     "execution_count": 36,
     "metadata": {},
     "output_type": "execute_result"
    }
   ],
   "source": [
    "sla.inv(Z)"
   ]
  },
  {
   "cell_type": "markdown",
   "metadata": {
    "id": "wpej8ENdyKzI"
   },
   "source": [
    "<b>Номер 1.5</b>\n",
    "\n",
    "сгенерируйте случайную матрицу  X  размера  4×5"
   ]
  },
  {
   "cell_type": "code",
   "execution_count": 37,
   "metadata": {
    "colab": {
     "base_uri": "https://localhost:8080/"
    },
    "id": "D5sgFAOOyUlF",
    "outputId": "06abc564-6f51-4db4-a499-f96d02a7848f"
   },
   "outputs": [
    {
     "data": {
      "text/plain": [
       "array([[0.74560582, 0.12593585, 0.30641137, 0.07874017, 0.63230445],\n",
       "       [0.63224936, 0.26704304, 0.44151579, 0.64839517, 0.80212277],\n",
       "       [0.39577294, 0.70324896, 0.76146474, 0.99070374, 0.06237304],\n",
       "       [0.74862315, 0.79532551, 0.98630913, 0.78056746, 0.16743294]])"
      ]
     },
     "execution_count": 37,
     "metadata": {},
     "output_type": "execute_result"
    }
   ],
   "source": [
    "X = np.random.rand(4, 5)\n",
    "X"
   ]
  },
  {
   "cell_type": "markdown",
   "metadata": {
    "id": "tLrUowKkyup2"
   },
   "source": [
    "<b>Номер 1.6</b>\n",
    "\n",
    "найдите определитель подматрицы матрицы  X , расположенной на пересечении 2-й и 3-й строк и 1-го и 2-го столбцов; считаем, что строки и столбцы нумеруются с единицы (используйте slicing!). Такой определитель называется минором матрицы  X\n"
   ]
  },
  {
   "cell_type": "code",
   "execution_count": 38,
   "metadata": {
    "colab": {
     "base_uri": "https://localhost:8080/"
    },
    "id": "ocnbEOjey3Sx",
    "outputId": "96b7c531-72fc-490e-9d1f-fe9697901cb3"
   },
   "outputs": [
    {
     "data": {
      "text/plain": [
       "0.3389402923804058"
      ]
     },
     "execution_count": 38,
     "metadata": {},
     "output_type": "execute_result"
    }
   ],
   "source": [
    "sla.det(X[1:3, :2])\n"
   ]
  },
  {
   "cell_type": "markdown",
   "metadata": {
    "id": "-AAIXSjUzoG_"
   },
   "source": [
    "<b>Номер 1.7</b>\n",
    "\n",
    "найдите произведение  XT*X .\n"
   ]
  },
  {
   "cell_type": "code",
   "execution_count": 39,
   "metadata": {
    "colab": {
     "base_uri": "https://localhost:8080/"
    },
    "id": "CXyo4TFK0EI3",
    "outputId": "34936eeb-bff0-40e4-dac5-95694a0a9470"
   },
   "outputs": [
    {
     "data": {
      "text/plain": [
       "array([[1.67274013, 1.13646229, 1.54735116, 1.44510117, 1.12862122],\n",
       "       [1.13646229, 1.21427358, 1.47642799, 1.50058222, 0.47085857],\n",
       "       [1.54735116, 1.47642799, 1.84145836, 1.83467037, 0.76053064],\n",
       "       [1.44510117, 1.50058222, 1.83467037, 2.01739579, 0.7623662 ],\n",
       "       [1.12862122, 0.47085857, 0.76053064, 0.7623662 , 1.07513404]])"
      ]
     },
     "execution_count": 39,
     "metadata": {},
     "output_type": "execute_result"
    }
   ],
   "source": [
    "X.T @ X"
   ]
  },
  {
   "cell_type": "markdown",
   "metadata": {
    "id": "Dq9CP3Tvr-Dc"
   },
   "source": [
    "## Часть 2. Время\n",
    "\n",
    "Питон мотивирует пользоваться библиотечными функциями, когда они доступны, а не писать собственные. Библиотечные функции основаны на современных алгоритмах, обычно пишутся на более эффективных языках, таких как C++ или Fortran, а кроме того, оптимизированы для работы на многопроцессорных устройствах, так что обогнать эти решения просто так вы не сможете.\n",
    "\n",
    "**Задание 2.1 [0.75 баллов]**\n",
    "Мы предлагаем вам убедиться в этом самим. Напишите функцию `my_det`, которая вычисляла бы определитель матрицы с помощью элементарных преобразований над строками. Функция должна выкидывать `ValueError` в случаях, если матрица не является квадратной."
   ]
  },
  {
   "cell_type": "code",
   "execution_count": 44,
   "metadata": {
    "collapsed": true,
    "id": "g943MUT2r-Dd"
   },
   "outputs": [],
   "source": [
    "def my_det(X):\n",
    "    '''\n",
    "    Parameters\n",
    "    ----------\n",
    "    X : array_like\n",
    "    \n",
    "    Returns\n",
    "    -------\n",
    "    det : float\n",
    "        Determinant of `a`.\n",
    "    '''\n",
    "    if len(X) != len(X[0]):\n",
    "      raise ValueError\n",
    "    n = len(X)\n",
    "    i = 0\n",
    "    nakop = 1\n",
    "    while i < n:\n",
    "      tmp = 0\n",
    "      if X[i][i] == 0:\n",
    "        tmp = 1\n",
    "        for j in range(i + 1,n):\n",
    "          if X[j][i] != 0:\n",
    "            tmp = 0\n",
    "            X[i], X[j] = X[j].copy(), X[i].copy()\n",
    "            nakop *= -1\n",
    "            break\n",
    "      if tmp == 0:\n",
    "        for j in range(i + 1, n):\n",
    "          mnozh = X[j][i] / X[i][i]\n",
    "          for t in range(n):\n",
    "            X[j][t] -= mnozh * X[i][t]\n",
    "      i += 1\n",
    "    det = 1\n",
    "    for i in range(n):\n",
    "      det *= X[i][i]\n",
    "    return det"
   ]
  },
  {
   "cell_type": "markdown",
   "metadata": {
    "id": "yH3RBFebr-Dd"
   },
   "source": [
    "Простая проверка:"
   ]
  },
  {
   "cell_type": "code",
   "execution_count": 45,
   "metadata": {
    "colab": {
     "base_uri": "https://localhost:8080/"
    },
    "collapsed": true,
    "id": "zZkvjyIMr-De",
    "outputId": "a07f489b-6089-4454-9acd-dffacbdbe18a"
   },
   "outputs": [
    {
     "name": "stdout",
     "output_type": "stream",
     "text": [
      "-1.0\n"
     ]
    }
   ],
   "source": [
    "# Запустите этот блок кода\n",
    "X = np.array([[0,0,1], [0,1,0], [1,0,0]])\n",
    "print(np.linalg.det(X))"
   ]
  },
  {
   "cell_type": "markdown",
   "metadata": {
    "id": "1s1r8y0lr-Df"
   },
   "source": [
    "На случай, если нам просто повезло с этой матрицей, имеет смысл написать чуть более хитрые тесты. Мы сгенерируем несколько случайных матриц $8\\times8$ с помощью функции `numpy.random.rand` и сравним ответ, выдаваемый нашей функцией, с настоящим определителем (результатом работы библиотечной функции `scipy.linalg.det`):"
   ]
  },
  {
   "cell_type": "code",
   "execution_count": 46,
   "metadata": {
    "collapsed": true,
    "id": "SYbzit9Sr-Df"
   },
   "outputs": [],
   "source": [
    "# Запустите этот блок кода\n",
    "for _ in range(10):\n",
    "    X = np.random.rand(8, 8)\n",
    "    if np.abs(my_det(X) - sla.det(X)) > 1e-6:\n",
    "        print('FAILED')"
   ]
  },
  {
   "cell_type": "markdown",
   "metadata": {
    "id": "4SYA688Er-Dg"
   },
   "source": [
    "Если вы ни разу не получили `FAILED`, то ваша функция работает правильно."
   ]
  },
  {
   "cell_type": "markdown",
   "metadata": {
    "id": "Lw3SUmFcr-Dg"
   },
   "source": [
    "Теперь давайте сравним скорость работы вашей функции и библиотечной функции `scipy.linalg.det`. В Питоне есть несколько способов измерения времени; мы воспользуемся декоратором `%timeit`. Будучи написан перед функцией, он запускает её некоторое количество раз, выбирает три случайных запуска и возвращает длительность самого быстрого из них. Модификатор `-o` между декоратором и функцией позволяет сохранять результаты работы декоратора в переменную.\n",
    "\n",
    "Приготовьтесь, что следующий блок может работать сравнительно долго."
   ]
  },
  {
   "cell_type": "code",
   "execution_count": 50,
   "metadata": {
    "colab": {
     "base_uri": "https://localhost:8080/",
     "height": 469
    },
    "collapsed": true,
    "id": "J8MHVMDTr-Dh",
    "outputId": "5211be2e-3b7f-4cef-a5c3-50959a2eae64"
   },
   "outputs": [
    {
     "name": "stdout",
     "output_type": "stream",
     "text": [
      "The slowest run took 13.20 times longer than the fastest. This could mean that an intermediate result is being cached.\n",
      "100000 loops, best of 5: 12.7 µs per loop\n",
      "1000 loops, best of 5: 511 µs per loop\n",
      "The slowest run took 5.24 times longer than the fastest. This could mean that an intermediate result is being cached.\n",
      "10000 loops, best of 5: 142 µs per loop\n",
      "1 loop, best of 5: 502 ms per loop\n",
      "10 loops, best of 5: 26.4 ms per loop\n"
     ]
    },
    {
     "name": "stderr",
     "output_type": "stream",
     "text": [
      "/usr/local/lib/python3.7/dist-packages/ipykernel_launcher.py:35: RuntimeWarning: overflow encountered in double_scalars\n"
     ]
    },
    {
     "name": "stdout",
     "output_type": "stream",
     "text": [
      "1 loop, best of 5: 8min 29s per loop\n"
     ]
    },
    {
     "data": {
      "text/plain": [
       "<matplotlib.legend.Legend at 0x7fa1f50ed710>"
      ]
     },
     "execution_count": 50,
     "metadata": {},
     "output_type": "execute_result"
    },
    {
     "data": {
      "image/png": "[encoded data removed]",
      "text/plain": [
       "<Figure size 432x288 with 1 Axes>"
      ]
     },
     "metadata": {
      "needs_background": "light"
     },
     "output_type": "display_data"
    }
   ],
   "source": [
    "# Запустите этот блок кода\n",
    "lib_times = []\n",
    "my_times = []\n",
    "dimensions = [10, 100, 1000]\n",
    "for dim in dimensions:\n",
    "    A = np.random.rand(dim, dim)\n",
    "    res_lib = %timeit -o sla.det(A)\n",
    "    lib_times.append(res_lib.best)\n",
    "    res_my = %timeit -o my_det(A)\n",
    "    my_times.append(res_my.best)\n",
    "    \n",
    "plt.plot(dimensions, lib_times, color='blue', label='Library function')\n",
    "plt.plot(dimensions, my_times, color='red', label='My function')\n",
    "plt.title('My function vs library function, log y scale')\n",
    "plt.ylabel('Time')\n",
    "plt.xlabel('Matrix dimension')\n",
    "plt.legend()"
   ]
  },
  {
   "cell_type": "markdown",
   "metadata": {
    "id": "3snj6Ssyr-Dh"
   },
   "source": [
    "У вас должны были получиться графики, показывающие, как растёт с ростом размерности матрицы время вычисления определителя. Поскольку они вышли не больно-то красивыми, мы нарисуем их в *логарифмическом масштабе* по оси у:"
   ]
  },
  {
   "cell_type": "code",
   "execution_count": 51,
   "metadata": {
    "colab": {
     "base_uri": "https://localhost:8080/",
     "height": 313
    },
    "collapsed": true,
    "id": "DvHEs5bpr-Di",
    "outputId": "0e7a7342-b4d0-4d72-c6ff-1c9c3c445e7a"
   },
   "outputs": [
    {
     "data": {
      "text/plain": [
       "<matplotlib.legend.Legend at 0x7fa1f4be0a90>"
      ]
     },
     "execution_count": 51,
     "metadata": {},
     "output_type": "execute_result"
    },
    {
     "data": {
      "image/png": "[encoded data removed]",
      "text/plain": [
       "<Figure size 432x288 with 1 Axes>"
      ]
     },
     "metadata": {
      "needs_background": "light"
     },
     "output_type": "display_data"
    }
   ],
   "source": [
    "# Запустите этот блок кода\n",
    "plt.semilogy(dimensions, lib_times, color='blue', label='Library function')\n",
    "plt.semilogy(dimensions, my_times, color='red', label='My function')\n",
    "plt.title('My function vs library function, log y scale')\n",
    "plt.ylabel('Time')\n",
    "plt.xlabel('Matrix dimension')\n",
    "plt.legend()"
   ]
  },
  {
   "cell_type": "markdown",
   "metadata": {
    "id": "1hNKxIy_r-Di"
   },
   "source": [
    "Вы можете убедиться, что библиотечная функция работает *гораздо* быстрее."
   ]
  },
  {
   "cell_type": "markdown",
   "metadata": {
    "id": "jpswHTx4r-Di"
   },
   "source": [
    "## Часть 3. Точность\n",
    "\n",
    "Наверняка вы уже что-то знаете про floating point arithmetics и связанные с этим трудности и понимаете, что на компьютере вычисления с вещественными числами производятся лишь с ограниченной точностью. "
   ]
  },
  {
   "cell_type": "markdown",
   "metadata": {
    "id": "sbHBREf1r-Dj"
   },
   "source": [
    "**Задание 3.1 [0.5 балла]** В качестве первого примера, показывающего различие между длинной арифметикой целых чисел и floating point arithmetics, предлагаем вам перемножить две пары матриц:\n",
    "\n",
    "$$\n",
    "\\begin{pmatrix}\n",
    "1 & 0\\\\\n",
    "10^{20} & 1\n",
    "\\end{pmatrix}\n",
    "\\cdot\n",
    "\\begin{pmatrix}\n",
    "10^{-20} & 1\\\\\n",
    "0 & 1 - 10^{20}\n",
    "\\end{pmatrix}\n",
    "$$\n",
    "и\n",
    "$$\n",
    "\\begin{pmatrix}\n",
    "1. & 0.\\\\\n",
    "10.^{20} & 1.\n",
    "\\end{pmatrix}\n",
    "\\cdot\n",
    "\\begin{pmatrix}\n",
    "10.^{-20} & 1.\\\\\n",
    "0. & 1. - 10.^{20}\n",
    "\\end{pmatrix}\n",
    "$$\n",
    "Во втором случае мы специально указали Питону (поставив везде десятичные точки), что хотим работать не с целыми числами, а с числами с плавающей точкой. Посмотрим, получатся ли одинаковые ответы:"
   ]
  },
  {
   "cell_type": "markdown",
   "metadata": {
    "id": "wPqG39NSTSJD"
   },
   "source": [
    "<b>1 вариант</b>"
   ]
  },
  {
   "cell_type": "code",
   "execution_count": 52,
   "metadata": {
    "colab": {
     "base_uri": "https://localhost:8080/"
    },
    "collapsed": true,
    "id": "DrPBRd5xr-Dj",
    "outputId": "bebbe47c-0407-4d27-c5c9-26ddde832684"
   },
   "outputs": [
    {
     "data": {
      "text/plain": [
       "array([[1e-20, 1],\n",
       "       [1.0, 1]], dtype=object)"
      ]
     },
     "execution_count": 52,
     "metadata": {},
     "output_type": "execute_result"
    }
   ],
   "source": [
    "np.array([[1, 0], [10**20, 1]]) @ np.array([[10**-20, 1], [0, 1-10**20]])"
   ]
  },
  {
   "cell_type": "markdown",
   "metadata": {
    "id": "GiBy73qQTXLU"
   },
   "source": [
    "<b>2 вариант</b>\n"
   ]
  },
  {
   "cell_type": "code",
   "execution_count": 53,
   "metadata": {
    "colab": {
     "base_uri": "https://localhost:8080/"
    },
    "id": "dNwJ3IxaTbxV",
    "outputId": "bf522e6f-75aa-4150-caca-836b4351c494"
   },
   "outputs": [
    {
     "data": {
      "text/plain": [
       "array([[1.e-20, 1.e+00],\n",
       "       [1.e+00, 0.e+00]])"
      ]
     },
     "execution_count": 53,
     "metadata": {},
     "output_type": "execute_result"
    }
   ],
   "source": [
    "np.array([[1., 0.], [10.**20, 1.]]) @ np.array([[10.**-20, 1.], [0., 1.-10.**20]])"
   ]
  },
  {
   "cell_type": "markdown",
   "metadata": {
    "id": "Pt3aLW1Or-Dk"
   },
   "source": [
    "И какой из них правильный?\n",
    "\n",
    "---\n",
    "**Правильным оказался 1 вариант**"
   ]
  },
  {
   "cell_type": "markdown",
   "metadata": {
    "id": "jiY-QrKPr-Dk"
   },
   "source": [
    "**Задание 3.2 [0.75 балла]** Впрочем, и с целыми числами тоже не всегда всё хорошо. Напишите функцию, генерирующую *матрицу Паскаля* заданной размерности $n$, то есть матрицу $P$, в которой $P_{ij} = C_{i+j}^i$. В этом задании нельзя пользоваться библиотечной функцией `scipy.linalg.pascal` или её аналогами из других библиотек. Обратите внимание, что использование факториалов крайне нежелательно, так как быстро приведёт к переполнению.\n",
    "\n",
    "В этом задании вы можете использовать цикл ``for``."
   ]
  },
  {
   "cell_type": "code",
   "execution_count": 54,
   "metadata": {
    "colab": {
     "base_uri": "https://localhost:8080/"
    },
    "collapsed": true,
    "id": "rDU_5JgZr-Dl",
    "outputId": "bec699cf-b3da-4a4c-97f5-2d554f1c3325"
   },
   "outputs": [
    {
     "data": {
      "text/plain": [
       "array([[ 1.,  1.,  1.,  1.],\n",
       "       [ 1.,  2.,  3.,  4.],\n",
       "       [ 1.,  3.,  6., 10.],\n",
       "       [ 1.,  4., 10., 20.]])"
      ]
     },
     "execution_count": 54,
     "metadata": {},
     "output_type": "execute_result"
    }
   ],
   "source": [
    "def my_pascal(dim):\n",
    "    '''\n",
    "    Мы создали для вас матрицу из нулей размера dim x dim,\n",
    "    но вы можете ей не пользоваться, если не хотите\n",
    "    '''\n",
    "    P = np.zeros((dim, dim))\n",
    "    \n",
    "    for i in range(len(P)):\n",
    "      for j in range(len(P)):\n",
    "        if i == 0 or j == 0:\n",
    "          P[i][j] = 1\n",
    "        else:\n",
    "          P[i][j] = P[i-1][j] + P[i][j-1]\n",
    "    return P\n",
    "my_pascal(4)"
   ]
  },
  {
   "cell_type": "markdown",
   "metadata": {
    "id": "PcK88FAmr-Dl"
   },
   "source": [
    "Чему равен её определитель? Строго поясните свой ответ.\n",
    "\n",
    "----\n",
    "**Определитель либой матрицы Паскаля будет равен 1, т.к. после приведения любой матрицы такого вида к верхнетреугольному виду мы получим только единицы на главной диагонали.**"
   ]
  },
  {
   "cell_type": "markdown",
   "metadata": {
    "id": "9FtlxI5xr-Dl"
   },
   "source": [
    "А теперь вычислите определитель матрицы Паскаля $30\\times30$ с помощью библиотечной функции `scipy.linalg.det`:"
   ]
  },
  {
   "cell_type": "code",
   "execution_count": 55,
   "metadata": {
    "colab": {
     "base_uri": "https://localhost:8080/"
    },
    "collapsed": true,
    "id": "LF-9p43cr-Dm",
    "outputId": "cd57d405-a78e-4e07-e158-31cf2efe535f"
   },
   "outputs": [
    {
     "data": {
      "text/plain": [
       "4.6365440194083456e+47"
      ]
     },
     "execution_count": 55,
     "metadata": {},
     "output_type": "execute_result"
    }
   ],
   "source": [
    "sla.det(my_pascal(30))"
   ]
  },
  {
   "cell_type": "markdown",
   "metadata": {
    "id": "XkP5Lz39r-Dn"
   },
   "source": [
    "Разница заметна невооружённым взглядом!"
   ]
  },
  {
   "cell_type": "markdown",
   "metadata": {
    "id": "o5FGEdeLRtyw"
   },
   "source": [
    "Как вы помните из лекций, квадратная матрица называется вырожденной, если её определитель равен нулю. На практике часто приходится иметь дело с матрицами, \"близкими\" к вырожденным. Вырожденные и близкие к вырожденным матрицы обладают мерзким свойством численной неустойчивости. Что такое численная неустойчивость? Скажем, пусть мы решаем систему $Ax = b$, и пусть $\\dot x$ -- её частное решение. Теперь предположим, что правая часть системы немного испортилась (например, если правая часть -- это выход какого-то алгоритма, то тогда она может испортиться из-за неточных вычислений в этом алгоритме), и теперь мы решаем систему $Ax = b + \\Delta b$. Если элементы вектора $\\Delta b$ невелики по модулю, нам бы очень хотелось, чтобы и решение новой системы не сильно отличалось от решения исходной системы. Именно это мы и будем называть численной устойчивостью.\n",
    "\n",
    "**Задание 3.3 [0.15 балла]** Дана система\n",
    "$$\n",
    "\\begin{cases}\n",
    "x_1 + 1000x_2 = 2004\\\\\n",
    "100x_1 + 100001x_2 = 200402\n",
    "\\end{cases}\n",
    "$$\n",
    "Найдите решение этой системы (можно устно). Найдите определитель её матрицы коэффициентов."
   ]
  },
  {
   "cell_type": "markdown",
   "metadata": {
    "id": "L8o25wceaqCz"
   },
   "source": [
    "<b>1 шаг</b>\n",
    "\n",
    "Нашел решение системы"
   ]
  },
  {
   "cell_type": "code",
   "execution_count": 56,
   "metadata": {
    "colab": {
     "base_uri": "https://localhost:8080/"
    },
    "id": "5gTOZfe8Z4u9",
    "outputId": "f8ce4c62-0834-4749-9c4d-6453a01bd27c"
   },
   "outputs": [
    {
     "data": {
      "text/plain": [
       "array([[4.],\n",
       "       [2.]])"
      ]
     },
     "execution_count": 56,
     "metadata": {},
     "output_type": "execute_result"
    }
   ],
   "source": [
    "sla.solve(np.array([[1, 1000], [100, 100001]]), np.array([[2004], [200402]]))"
   ]
  },
  {
   "cell_type": "markdown",
   "metadata": {
    "id": "jCh6EOlka4ag"
   },
   "source": [
    "**2 шаг**\n",
    "\n",
    "Нашел определитель матрицы коэффициентов"
   ]
  },
  {
   "cell_type": "code",
   "execution_count": 57,
   "metadata": {
    "colab": {
     "base_uri": "https://localhost:8080/"
    },
    "id": "96VV3Do9bASJ",
    "outputId": "a57ffc2d-5b99-44d6-9e08-c1d08c8fdcab"
   },
   "outputs": [
    {
     "data": {
      "text/plain": [
       "1.0000000000047748"
      ]
     },
     "execution_count": 57,
     "metadata": {},
     "output_type": "execute_result"
    }
   ],
   "source": [
    "sla.det(np.array([[1, 1000], [100, 100001]]))"
   ]
  },
  {
   "cell_type": "markdown",
   "metadata": {
    "id": "EoBbwD-XZ5AD"
   },
   "source": [
    "Теперь немного испортим правую часть этой системы, пусть теперь она имеет вид\n",
    "$$\n",
    "\\begin{cases}\n",
    "x_1 + 1000x_2 = 2004.01\\\\\n",
    "100x_1 + 100001x_2 = 200402\n",
    "\\end{cases}\n",
    "$$\n",
    "\n",
    "Найдите решение системы с испорченной правой частью. Сравните решения исходной и новой систем. Что вы можете сказать?"
   ]
  },
  {
   "cell_type": "code",
   "execution_count": 58,
   "metadata": {
    "colab": {
     "base_uri": "https://localhost:8080/"
    },
    "id": "UeWfOQNmaXC0",
    "outputId": "9f71ed60-149e-4622-97e1-b36772c4bc96"
   },
   "outputs": [
    {
     "data": {
      "text/plain": [
       "array([[1.00401e+03],\n",
       "       [1.00000e+00]])"
      ]
     },
     "execution_count": 58,
     "metadata": {},
     "output_type": "execute_result"
    }
   ],
   "source": [
    "sla.solve(np.array([[1, 1000], [100, 100001]]), np.array([[2004.01], [200402]]))"
   ]
  },
  {
   "cell_type": "markdown",
   "metadata": {
    "id": "_ER7VPPFsr5f"
   },
   "source": [
    "Оказывается, что значение определителя довольно плохо измеряет степень отклонения данной матрицы от вырожденной. Хорошей метрикой в этом плане является число обусловленности матрицы.\n",
    "\n",
    "**Определение**. Пусть $A$ -- квадратная матрица порядка $n$. Числом обусловленности матрицы $A$ назовём число $\\mathrm{cond}(A)$, определяемое по формуле\n",
    "$$\n",
    "\\mathrm{cond}(A) = \\sqrt{\\mathrm{tr}(A^TA)\\mathrm{tr}((A^{-1})^TA^{-1})}\n",
    "$$\n",
    "Если матрица вырожденна, то $\\mathrm{cond}(A)$ положим равным бесконечности.\n",
    "\n",
    "Как можно догадаться из определения, матрица тем ближе к вырожденной, чем больше её число обусловленности, ведь у вырожденной матрицы это число равно бесконечности!"
   ]
  },
  {
   "cell_type": "markdown",
   "metadata": {
    "id": "ginE-Q5VMoh9"
   },
   "source": [
    "**Задание 3.4 [0.2 баллов]** Напишите функцию, которая для заданной матрицы $A$ возвращает её число обусловленности. Функция должна выкидывать `ValueError` в случаях, если матрица не является квадратной."
   ]
  },
  {
   "cell_type": "code",
   "execution_count": 59,
   "metadata": {
    "colab": {
     "base_uri": "https://localhost:8080/"
    },
    "id": "DJjq1Y5eNOgP",
    "outputId": "230b2e66-d048-4145-bc6b-2eccaac6ee73"
   },
   "outputs": [
    {
     "data": {
      "text/plain": [
       "8549.0"
      ]
     },
     "execution_count": 59,
     "metadata": {},
     "output_type": "execute_result"
    }
   ],
   "source": [
    "def my_cond(A):\n",
    "    '''\n",
    "    Parameters\n",
    "    ----------\n",
    "    A : array_like\n",
    "    \n",
    "    Returns\n",
    "    -------\n",
    "    cond : float\n",
    "          Condition number of A.\n",
    "    '''\n",
    "    if len(A) != len(A[0]):\n",
    "      raise ValueError\n",
    "    if sla.det(A) == 0:\n",
    "      cond = float('Inf')\n",
    "    else:\n",
    "      cond = (np.trace(A.T @ A) * np.trace(sla.inv(A).T @ sla.inv(A))) ** 0.5\n",
    "    return cond\n",
    "my_cond(my_pascal(5))"
   ]
  },
  {
   "cell_type": "markdown",
   "metadata": {
    "id": "fCBQSE3COLhb"
   },
   "source": [
    "Посчитайте число обусловленности матрицы из задания 3.3."
   ]
  },
  {
   "cell_type": "code",
   "execution_count": 60,
   "metadata": {
    "colab": {
     "base_uri": "https://localhost:8080/"
    },
    "id": "IJY6GlkJOZH-",
    "outputId": "818d16d1-e3a9-4dbf-b9ea-74355075b772"
   },
   "outputs": [
    {
     "data": {
      "text/plain": [
       "10001210002.009096"
      ]
     },
     "execution_count": 60,
     "metadata": {},
     "output_type": "execute_result"
    }
   ],
   "source": [
    "my_cond(np.array([[1, 1000], [100, 100001]]))"
   ]
  },
  {
   "cell_type": "markdown",
   "metadata": {
    "id": "ExnPX7hgOXUK"
   },
   "source": [
    "Постройте график зависимости числа обусловленности матрицы Паскаля от размера $n \\in [5, 30]$."
   ]
  },
  {
   "cell_type": "code",
   "execution_count": 61,
   "metadata": {
    "colab": {
     "base_uri": "https://localhost:8080/",
     "height": 297
    },
    "id": "oRJA9WZfVMZa",
    "outputId": "cd78ba35-8819-4640-8807-369e8122033e"
   },
   "outputs": [
    {
     "data": {
      "text/plain": [
       "<matplotlib.legend.Legend at 0x7fa1f5075f50>"
      ]
     },
     "execution_count": 61,
     "metadata": {},
     "output_type": "execute_result"
    },
    {
     "data": {
      "image/png": "[encoded data removed]",
      "text/plain": [
       "<Figure size 432x288 with 1 Axes>"
      ]
     },
     "metadata": {
      "needs_background": "light"
     },
     "output_type": "display_data"
    }
   ],
   "source": [
    "fig, ax = plt.subplots()\n",
    "k = [i for i in range(5, 31)]\n",
    "t = []\n",
    "for i in range(5, 31):\n",
    "  t.append(my_cond(my_pascal(i)))\n",
    "ax.semilogy(k, t, color='red', label='cond')\n",
    "plt.ylabel('Cond')\n",
    "plt.xlabel('Size')\n",
    "plt.legend()"
   ]
  },
  {
   "cell_type": "markdown",
   "metadata": {
    "id": "NaIWOuZRf1JM"
   },
   "source": [
    "Как видите, посчитанные выше числа обусловленности весьма велики, что вполне согласуется с численными эффектами, которые вы наблюдали ранее при работе с соответствующими матрицами."
   ]
  },
  {
   "cell_type": "markdown",
   "metadata": {
    "id": "P-Lw8ufLr-Dn"
   },
   "source": [
    "## Часть 4. Матричные вычисления"
   ]
  },
  {
   "cell_type": "markdown",
   "metadata": {
    "id": "vhYgy7k_r-Do"
   },
   "source": [
    "Вы уже видели, что использования циклов (и самописных вычислений в целом) в Питоне лучше по возможности избегать, и важно уметь находить способы делать всё библиотечными средствами.\n",
    "\n",
    "В качестве примера рассмотрим две задачи:\n",
    "\n",
    "**1.** Предположим, нужно вычислить суммы элементов в каждой строке матрицы `A`. Ясно, что можно написать простую функцию с двумя циклами, которая это посчитает, но так лучше не делать. Правильный способ такой:\n",
    "```\n",
    "A.sum(axis=1)\n",
    "```\n",
    "Параметр `axis=1` означает, что суммы берутся по строкам. Если вы хотите просуммировать по столбцам, укажите `axis=0`. Если вообще пропустить параметр `axis` (вызвать `A.sum()`), то функция вернёт сумму *всех* элементов матрицы.\n",
    "\n",
    "**2.** Теперь допустим, что нам нужно каждый столбец матрицы `A` умножить на некоторое число. Более точно, пусть у нас есть (одномерный) вектор `w = np.array([w_1,...,w_n])`, и мы должны `i`-й столбец `A` умножить на число `w_i`. Опять же, это можно сделать в пару циклов, но лучше использовать операцию поэлементного умножения:\n",
    "```\n",
    "A * w.reshape((1,n))\n",
    "```\n",
    "Оператор `reshape` нужен для того, чтобы из одномерного вектора сделать вектор-строку.\n",
    "\n",
    "Аналогично если на числа `w_1,...,w_n` умножаются *строки* матрицы, нужно превратить `w` в вектор-столбец:\n",
    "```\n",
    "A * w.reshape((n,1))\n",
    "```"
   ]
  },
  {
   "cell_type": "markdown",
   "metadata": {
    "id": "Hat1t__0r-Do"
   },
   "source": [
    "Дальше вам будет предложено попрактиковаться в матричных вычислениях. В следующих трёх заданиях нельзя пользоваться циклами, а также конструкциями `map` и `reduce` и им подобными; вместо этого постарайтесь свести всё к матричным операциям из `numpy` (но, опять же, не `np.vectorize` или чему-то подобному). Чтобы убедиться, что получилось именно то, что нужно, пишите собственные тесты со случайными матрицами."
   ]
  },
  {
   "cell_type": "markdown",
   "metadata": {
    "id": "kMJB7H_Rr-Dp"
   },
   "source": [
    "**Задание 4.1 [0.75 балла]** Напишите функцию `prod_and_sq_sum(A)`, вычисляющую произведение диагональных элементов, и сумму квадратов диагональных элементов квадратной матрицы `A`."
   ]
  },
  {
   "cell_type": "code",
   "execution_count": 62,
   "metadata": {
    "colab": {
     "base_uri": "https://localhost:8080/"
    },
    "collapsed": true,
    "id": "_y-KXozGr-Dp",
    "outputId": "eb436150-ddc4-4689-f561-337f92b0a0dd"
   },
   "outputs": [
    {
     "data": {
      "text/plain": [
       "(45, 107)"
      ]
     },
     "execution_count": 62,
     "metadata": {},
     "output_type": "execute_result"
    }
   ],
   "source": [
    "def prod_and_sq_sum(A):\n",
    "  k = np.diag(A)\n",
    "  ans1 = np.prod(k)\n",
    "  ans2 = (k * k.reshape(1, len(k))).sum()\n",
    "  return ans1, ans2\n",
    "prod_and_sq_sum(np.array([[1, 2, 3], [4, 5, 6], [7, 8, 9]]))"
   ]
  },
  {
   "cell_type": "markdown",
   "metadata": {
    "id": "BmTUHs8Ar-Dp"
   },
   "source": [
    "**Задание 4.2 [0.75 балла]** Для матриц `A` и `B` размера $m\\times n$ обозначим через $a_1,\\ldots,a_n$ и $b_1,\\ldots,b_n$ соответственно их столбцы, $\\lambda_1, \\ldots, \\lambda_n$ --- некоторые числа. Напишите функцию `f(A, B, lmbd, k)`, вычисляющую\n",
    "\n",
    "$$\\sum_{i=1}^{\\min(k,n)}\\lambda_ia_ib_i^T$$"
   ]
  },
  {
   "cell_type": "code",
   "execution_count": 63,
   "metadata": {
    "colab": {
     "base_uri": "https://localhost:8080/"
    },
    "collapsed": true,
    "id": "rXVb6AARr-Dq",
    "outputId": "632a53ac-5451-4006-fa0d-1a17a730819c"
   },
   "outputs": [
    {
     "data": {
      "text/plain": [
       "array([[ 34,  46],\n",
       "       [ 78, 106]])"
      ]
     },
     "execution_count": 63,
     "metadata": {},
     "output_type": "execute_result"
    }
   ],
   "source": [
    "def f(A, B, lmbd, k):\n",
    "  tmp = min(len(A), k)\n",
    "  A = A[:, :tmp]\n",
    "  B = B[:, :tmp]\n",
    "  lmbd = lmbd[:tmp]\n",
    "  A = A * lmbd.reshape(1,len(lmbd))\n",
    "  ans = A @ B.T\n",
    "  return ans\n",
    "f(np.array([[1, 2], [3, 4]]), np.array([[5, 6], [7, 8]]), np.array([2, 2]), 6)"
   ]
  },
  {
   "cell_type": "markdown",
   "metadata": {
    "id": "RFlCOb_1r-Dq"
   },
   "source": [
    "**Задание 4.3 [0.75 балла]** Напишите функцию `get_diag(A,B)`, принимающую две квадратных матрицы матрицы `A` и `B` одного размера и возвращающую вектор диагональных элементов произведения `AB`, не вычисляя произведение целиком. "
   ]
  },
  {
   "cell_type": "code",
   "execution_count": 64,
   "metadata": {
    "colab": {
     "base_uri": "https://localhost:8080/"
    },
    "collapsed": true,
    "id": "UafXckVtr-Dr",
    "outputId": "97c7085c-23fa-4146-cb39-3aeb505077ad"
   },
   "outputs": [
    {
     "data": {
      "text/plain": [
       "array([19, 50])"
      ]
     },
     "execution_count": 64,
     "metadata": {},
     "output_type": "execute_result"
    }
   ],
   "source": [
    "def get_diag(A,B):\n",
    "  return np.sum(A * B.T, axis=1)\n",
    "get_diag(np.array([[1, 2], [3, 4]]), np.array([[5, 6], [7, 8]]))"
   ]
  },
  {
   "cell_type": "markdown",
   "metadata": {
    "id": "6IMMmVtpr-Dr"
   },
   "source": [
    "## Часть 5. Комплексные числа и геометрия"
   ]
  },
  {
   "cell_type": "markdown",
   "metadata": {
    "id": "M_R3OAUjr-Dr"
   },
   "source": [
    "У вас уже была возможность убедиться, что многие операции над комплексными числами имеют наглядную геометрическую интерпретацию. В этом задании вам будет предложено этим воспользоваться.\n",
    "\n",
    "В Python число $i$ (мнимая единица) обозначено через `1j`. Так, число $0,5 + 1,2i$ будет иметь вид `0.5 + 1.2 * 1j`.\n",
    "\n",
    "При выполнении задания вы должны работать с точками плоскости как с комплексными числами. Любые преобразования должны быть реализованы с помощью операций над комплексными числами: сложения, вычитания, умножения, деления, возведения в степень и комплексного сопряжения.\n",
    "\n",
    "**Задание 5.1 [0.75 баллов]** Напишите функцию `shrink_rotate`, которая принимает на вход:\n",
    "- заданную в виде комплексного числа точку $X$, которую мы подвергаем преобразованию,\n",
    "- заданную в виде комплексного числа точку $A$, \n",
    "- действительный коэффициент `coef`,\n",
    "- угол `alpha`, заданный в радианах\n",
    "\n",
    "и осуществляет следующее преобразование: мы берём вектор $AX$, умножаем его `coef`, поворачиваем вокруг точки $A$ на угол `alpha` против часовой стрелки, после чего возвращаем конец полученного вектора. Ниже (левая картинка) мы приводим иллюстрацию действия этого преобразования:\n",
    "\n",
    "<img src=\"ShrinkRotate.png\">\n",
    "\n",
    "**Задание 5.2 [0.75 баллов]** Напишите функцию `shrink_rotate_conj`, которая сначала делает то же самое, что и `shrink_rotate`, а после этого отражает вектор $AY$ относительно горизонтальной прямой, проходящей через точку $A$, и возвращает точку $Y'$ (см. правую часть рисунка).\n",
    "\n",
    "**Задание 5.3 [0.75 баллов]** Напишите функцию `geometric_inverse`, которая принимает на вход:\n",
    "- заданную в виде комплексного числа точку $X$, которую мы подвергаем преобразованию,\n",
    "- заданную в виде комплексного числа точку $A$, \n",
    "- положительное действительное число $r$\n",
    "\n",
    "и осуществляет инверсию точки $X$ относительно окружности с центром $A$ радиуса $r$. [Определение инверсии вы можете посмотреть здесь](https://ru.wikipedia.org/wiki/%D0%98%D0%BD%D0%B2%D0%B5%D1%80%D1%81%D0%B8%D1%8F_(%D0%B3%D0%B5%D0%BE%D0%BC%D0%B5%D1%82%D1%80%D0%B8%D1%8F))."
   ]
  },
  {
   "cell_type": "code",
   "execution_count": 3,
   "metadata": {
    "colab": {
     "base_uri": "https://localhost:8080/"
    },
    "id": "3NdSgR5gr-Ds",
    "outputId": "1ce2c554-930e-4719-97f9-2b7bfedd0cea"
   },
   "outputs": [
    {
     "name": "stdout",
     "output_type": "stream",
     "text": [
      "(14-3j)\n"
     ]
    }
   ],
   "source": [
    "def shrink_rotate(x, a, coef=1., angle=0.):\n",
    "    x = (x - a) * coef\n",
    "    re = (x + np.conj(x)) / 2\n",
    "    im = (x - np.conj(x)) / 2\n",
    "    x = re * (np.cos(angle) - np.sin(angle)) +\\\n",
    "     im * (np.sin(angle) + np.cos(angle))\n",
    "    x = x + a\n",
    "    return x\n",
    "    raise NotImplementedError()\n",
    "    \n",
    "def shrink_rotate_conj(x, a, coef=1., angle=0.):\n",
    "    x = (x - a) * coef\n",
    "    re = (x + np.conj(x)) / 2\n",
    "    im = (x - np.conj(x)) / 2\n",
    "    x = re * (np.cos(angle) - np.sin(angle)) -\\\n",
    "     im * (np.sin(angle) + np.cos(angle))\n",
    "    x = x + a\n",
    "    return x\n",
    "    raise NotImplementedError()\n",
    "    \n",
    "def geometric_inverse(x, a, r):\n",
    "    x = a + r**2 / (np.conj(x) - np.conj(a))\n",
    "    return x\n",
    "    raise NotImplementedError()\n",
    "\n",
    "print(geometric_inverse(6 + 1j, 4 + 2j, 5.))"
   ]
  },
  {
   "cell_type": "markdown",
   "metadata": {
    "id": "NeashSv6r-Ds"
   },
   "source": [
    "**Задание 5.4 [0.5 баллов]** Рассмотрим следующий процесс:\n",
    "\n",
    "```\n",
    "z = 0.5 + 0.*1j\n",
    "max_iter = 100000\n",
    "funcs = [\n",
    "    (lambda t: shrink_rotate(t, 0. + 1.*1j, coef=0.5, angle=0.)),\n",
    "    (lambda t: shrink_rotate(t, 1. + 0.*1j, coef=0.5, angle=0.)),\n",
    "    (lambda t: shrink_rotate(t, -1. + 0.*1j, coef=0.5, angle=0.))\n",
    "]\n",
    "\n",
    "for n_iter in range(max_iter):\n",
    "    n_func = np.random.choice(len(funcs))\n",
    "    z = funcs[n_func](z)\n",
    "```\n",
    "\n",
    "Запустите его и нарисуйте множество точек, получающихся на итерациях начиняя с десятой.\n",
    "\n",
    "*Указание*. Представьте квадрат $[-1,1]\\times[-1,1]$ матрицей пикселей 1000x1000. Сначала все элементы матрицы положим нулями, а на каждой итерации начиная с десятой будем присваивать единицу соответствующему пикселю этой матрицы. То, что получилось, можно нарисовать с помощью функции `plt.imshow(..., cmap='gray')`. Картинку лучше сделать побольше, предварив `imshow` вызовом `plt.figure(figsize=(20, 20))`."
   ]
  },
  {
   "cell_type": "code",
   "execution_count": 10,
   "metadata": {
    "colab": {
     "base_uri": "https://localhost:8080/",
     "height": 341
    },
    "id": "7Igcpac1r-Dt",
    "outputId": "f65e79d1-5712-4a5d-a559-7d814d902cb0"
   },
   "outputs": [
    {
     "data": {
      "text/plain": [
       "<matplotlib.image.AxesImage at 0x2315a607130>"
      ]
     },
     "execution_count": 10,
     "metadata": {},
     "output_type": "execute_result"
    },
    {
     "data": {
      "image/png": "[encoded data removed]",
      "text/plain": [
       "<Figure size 360x360 with 1 Axes>"
      ]
     },
     "metadata": {
      "needs_background": "light"
     },
     "output_type": "display_data"
    }
   ],
   "source": [
    "z = 0.5 + 0.*1j\n",
    "max_iter = 100000\n",
    "funcs = [\n",
    "    (lambda t: shrink_rotate(t, 0. + 1.*1j, coef=0.5, angle=0.)),\n",
    "    (lambda t: shrink_rotate(t, 1. + 0.*1j, coef=0.5, angle=0.)),\n",
    "    (lambda t: shrink_rotate(t, -1. + 0.*1j, coef=0.5, angle=0.))\n",
    "]\n",
    "graph = [[0]*1000 for i in range(1000)]\n",
    "\n",
    "for n_iter in range(max_iter):\n",
    "    n_func = np.random.choice(len(funcs))\n",
    "    z = (funcs[n_func](z))\n",
    "    if n_iter >= 10:\n",
    "      graph[int(z.imag * 1000)//2 + 500][int(z.real * 1000)//2 + 500] = 1\n",
    "plt.figure(figsize=(5, 5))\n",
    "plt.imshow(graph, cmap='gray')"
   ]
  },
  {
   "cell_type": "markdown",
   "metadata": {
    "id": "kB4gYvBlr-Dt"
   },
   "source": [
    "**Задание 5.5 [0.75 баллов]** Попробуйте объяснить, почему получается именно эта фигура."
   ]
  },
  {
   "cell_type": "markdown",
   "metadata": {
    "id": "LQ5SZbJxr-Dt"
   },
   "source": [
    "---\n",
    "Каждый раз происходит деление пополам, поэтому треугольники становятся меньше в 2 раза. Верхняя половина плоскости не заполнена, потому что мы не вычитаем из z мнимую часть, а только прибавляем"
   ]
  },
  {
   "cell_type": "markdown",
   "metadata": {
    "id": "f1aCcERQr-Du"
   },
   "source": [
    "**Задание 5.6 [0.5 баллов]** Поэкспериментируйте с другими преобразованиями. Попробуйте найти какой-нибудь другой красиво выглядящий фрактал."
   ]
  },
  {
   "cell_type": "code",
   "execution_count": 8,
   "metadata": {
    "colab": {
     "base_uri": "https://localhost:8080/",
     "height": 341
    },
    "id": "mVvGUziLr-Dv",
    "outputId": "fe407ee7-12aa-4a20-ec8c-d7aabe6489ac"
   },
   "outputs": [
    {
     "data": {
      "text/plain": [
       "<matplotlib.image.AxesImage at 0x23159d986d0>"
      ]
     },
     "execution_count": 8,
     "metadata": {},
     "output_type": "execute_result"
    },
    {
     "data": {
      "image/png": "[encoded data removed]",
      "text/plain": [
       "<Figure size 360x360 with 1 Axes>"
      ]
     },
     "metadata": {
      "needs_background": "light"
     },
     "output_type": "display_data"
    }
   ],
   "source": [
    "z = 0.5 + 0.*1j\n",
    "max_iter = 100000\n",
    "funcs = [\n",
    "    (lambda t: shrink_rotate(t, 0. + 1.*1j, coef=0.5, angle=0.)),\n",
    "    (lambda t: shrink_rotate(t, 1. + 0.*1j, coef=0.5, angle=0.)),\n",
    "    (lambda t: shrink_rotate(t, -1. + 0.*1j, coef=0.5, angle=0.))\n",
    "]\n",
    "graph = [[0]*1000 for i in range(1000)]\n",
    "\n",
    "for n_iter in range(max_iter):\n",
    "    n_func = np.random.choice(len(funcs))\n",
    "    z = (funcs[n_func](z))\n",
    "    if n_iter >= 10:\n",
    "      graph[int(z.imag * 1000)][int(z.real * 1000)] = 1\n",
    "plt.figure(figsize=(5, 5))\n",
    "plt.imshow(graph, cmap='gray')"
   ]
  },
  {
   "cell_type": "markdown",
   "metadata": {
    "id": "jjJJYMLcr-Dv"
   },
   "source": [
    "## Часть 6 (бонус). Метод Гаусса или обратные матрицы?"
   ]
  },
  {
   "cell_type": "markdown",
   "metadata": {
    "id": "Pu8CLGhmr-Dw"
   },
   "source": [
    "**Задание 6.1 [1.5 балла]** Пусть нам дано матричное уравнение $Ax = B$, где $A$ --- матрица размера $n\\times n$, а $B$ --- матрица размера $n\\times m$ (отметим, что это уравнение можно интерпретировать как $m$ систем с векторными правыми частями и однаковыми левыми). Вообще говоря, методов решения таких уравнений очень много, но мы пока рассмотрим два из них, с которыми вы уже хорошо знакомы.\n",
    "1. Метод Гаусса;\n",
    "2. Умножение на обратную матрицу: $x = A^{-1}B$.\n",
    "\n",
    "В этом задании вы попробуете ответить на вопрос о том, какой из этих методов эффективнее. Проведите два эксперимента:\n",
    "- сравните скорости решения системы при фиксированном `m = 10` и `n`, изменяющемся в пределах от 10 до 1000, например, для `n=10, 50, 100, 200, 500, 1000` (рост числа неизвестных при фиксированном количестве правых частей);\n",
    "- сравните скорости решения системы при фиксированном `n = 100` и `m`, меняющемся от 10 до 10000, например, для `m = 10, 100, 500, 1000, 2000, 5000, 10000` (рост числа правых частей при фиксированном числе неизвестных).\n",
    "\n",
    "При проведении экспериментов не возбраняется использовать циклы `for`.\n",
    "\n",
    "Эксперименты проведите на случайных матрицах, созданных с помощью функции `numpy.random.rand`. Постройте графики времени выполнения функции от размерности (лучше в логарифмическом масштабе). Сделайте выводы (в письменном виде!) о том, какой их методов оказывается лучше в каких обстоятельствах.\n",
    "\n",
    "Чтобы всё это не казалось вам чёрной магией, найдите число операций (суммарно сложения, умножения и деления), необходимых для решения системы каждым из методов. Обратите внимания на члены суммарной степени 3 (суммарной по $m$ и $n$; члены меньшего порядка можете даже не считать). Постарайтесь объяснить полученные ранее результаты."
   ]
  },
  {
   "cell_type": "code",
   "execution_count": 73,
   "metadata": {
    "colab": {
     "base_uri": "https://localhost:8080/"
    },
    "collapsed": true,
    "id": "MxNqxkTbr-Dw",
    "outputId": "7ba85368-5188-4e95-ddb9-4137056124d9"
   },
   "outputs": [
    {
     "data": {
      "text/plain": [
       "array([[ 0.33333333, -0.33333333],\n",
       "       [ 0.33333333,  0.66666667]])"
      ]
     },
     "execution_count": 73,
     "metadata": {},
     "output_type": "execute_result"
    }
   ],
   "source": [
    "def gauss(A, B):\n",
    "  X = sla.solve(A, B)\n",
    "  return X\n",
    "\n",
    "def inv(A, B):\n",
    "  X = sla.inv(A) @ B\n",
    "  return X\n",
    "inv(np.array([[1, 2], [1, -1]]), np.array([[1, 1], [0, -1]]))"
   ]
  },
  {
   "cell_type": "markdown",
   "metadata": {
    "id": "F4gC4p7HmiSk"
   },
   "source": [
    "### **1 Пункт**\n",
    "\n",
    "Сравнение скорости решения системы при фиксированном `m = 10` и для `n=10, 50, 100, 200, 500, 1000` (рост числа неизвестных при фиксированном количестве правых частей)"
   ]
  },
  {
   "cell_type": "code",
   "execution_count": 74,
   "metadata": {
    "colab": {
     "base_uri": "https://localhost:8080/",
     "height": 573
    },
    "id": "oK3AysWROSIF",
    "outputId": "553baaad-fbe4-4b2e-b5d2-bdd7ed2d5bd7"
   },
   "outputs": [
    {
     "name": "stdout",
     "output_type": "stream",
     "text": [
      "The slowest run took 152.10 times longer than the fastest. This could mean that an intermediate result is being cached.\n",
      "10000 loops, best of 5: 51.5 µs per loop\n",
      "The slowest run took 6.27 times longer than the fastest. This could mean that an intermediate result is being cached.\n",
      "10000 loops, best of 5: 18.6 µs per loop\n",
      "10000 loops, best of 5: 122 µs per loop\n",
      "The slowest run took 7.84 times longer than the fastest. This could mean that an intermediate result is being cached.\n",
      "10000 loops, best of 5: 110 µs per loop\n",
      "1000 loops, best of 5: 277 µs per loop\n",
      "1000 loops, best of 5: 333 µs per loop\n",
      "1000 loops, best of 5: 997 µs per loop\n",
      "1000 loops, best of 5: 2.31 ms per loop\n",
      "100 loops, best of 5: 8.11 ms per loop\n",
      "100 loops, best of 5: 22.3 ms per loop\n",
      "10 loops, best of 5: 36.9 ms per loop\n",
      "10 loops, best of 5: 130 ms per loop\n"
     ]
    },
    {
     "data": {
      "text/plain": [
       "<matplotlib.legend.Legend at 0x7fa1f30d7d50>"
      ]
     },
     "execution_count": 74,
     "metadata": {},
     "output_type": "execute_result"
    },
    {
     "data": {
      "image/png": "[encoded data removed]",
      "text/plain": [
       "<Figure size 432x288 with 1 Axes>"
      ]
     },
     "metadata": {
      "needs_background": "light"
     },
     "output_type": "display_data"
    }
   ],
   "source": [
    "gauss_times = []\n",
    "inv_times = []\n",
    "dimensions = [10, 50, 100, 200, 500, 1000]\n",
    "m = 10\n",
    "for dim in dimensions:\n",
    "    A = np.random.rand(dim, dim)\n",
    "    B = np.random.rand(dim, m)\n",
    "    res_lib = %timeit -o gauss(A,B)\n",
    "    gauss_times.append(res_lib.best)\n",
    "    res_my = %timeit -o inv(A, B)\n",
    "    inv_times.append(res_my.best)\n",
    "\n",
    "plt.semilogy(dimensions, gauss_times, color='blue', label='gauss')\n",
    "plt.semilogy(dimensions, inv_times, color='red', label='inv')\n",
    "plt.title('Gauss vs Inverse')\n",
    "plt.ylabel('Time')\n",
    "plt.xlabel('Matrix dimension')\n",
    "plt.legend()"
   ]
  },
  {
   "cell_type": "markdown",
   "metadata": {
    "id": "AQ-ZfZfjnmNk"
   },
   "source": [
    "### **Вывод из первого пункта**\n",
    "\n",
    "Из графика видно, что функция, отображающая время решения уравнения методом Гаусса, растет медленнее, чем функция, отображающия время решения уравнения методом умнажения на обратную матрицу. При этом вначале видно, что метод Гаусса работал медленнее.\n",
    "\n",
    "Это означает, что при решении уравнений с небольшим количеством неизвестных резонно использовать метод умножения на обратную матрицу, а при решении уравнений с большим количеством неизвестных - метод Гаусса."
   ]
  },
  {
   "cell_type": "markdown",
   "metadata": {
    "id": "8HTVnS52nF40"
   },
   "source": [
    "### **2 Пункт**\n",
    "\n",
    "Сравнение скорости решения системы при фиксированном `n = 100` и для `m=10, 100, 500, 1000, 2000, 5000, 10000` (рост числа правых частей при фиксированном числе неизвестных)."
   ]
  },
  {
   "cell_type": "code",
   "execution_count": 75,
   "metadata": {
    "colab": {
     "base_uri": "https://localhost:8080/",
     "height": 590
    },
    "id": "On1sWfaBRg4A",
    "outputId": "a0a29eeb-c902-4f26-d6d2-3a41b6b84264"
   },
   "outputs": [
    {
     "name": "stdout",
     "output_type": "stream",
     "text": [
      "1000 loops, best of 5: 264 µs per loop\n",
      "1000 loops, best of 5: 339 µs per loop\n",
      "1000 loops, best of 5: 385 µs per loop\n",
      "The slowest run took 10.20 times longer than the fastest. This could mean that an intermediate result is being cached.\n",
      "1000 loops, best of 5: 599 µs per loop\n",
      "1000 loops, best of 5: 910 µs per loop\n",
      "1000 loops, best of 5: 921 µs per loop\n",
      "100 loops, best of 5: 1.53 ms per loop\n",
      "The slowest run took 4.56 times longer than the fastest. This could mean that an intermediate result is being cached.\n",
      "1000 loops, best of 5: 1.46 ms per loop\n",
      "100 loops, best of 5: 2.88 ms per loop\n",
      "100 loops, best of 5: 2.66 ms per loop\n",
      "100 loops, best of 5: 7.13 ms per loop\n",
      "100 loops, best of 5: 6.25 ms per loop\n",
      "100 loops, best of 5: 15.3 ms per loop\n",
      "100 loops, best of 5: 11.3 ms per loop\n"
     ]
    },
    {
     "data": {
      "text/plain": [
       "<matplotlib.legend.Legend at 0x7fa1f2f6bbd0>"
      ]
     },
     "execution_count": 75,
     "metadata": {},
     "output_type": "execute_result"
    },
    {
     "data": {
      "image/png": "[encoded data removed]",
      "text/plain": [
       "<Figure size 432x288 with 1 Axes>"
      ]
     },
     "metadata": {
      "needs_background": "light"
     },
     "output_type": "display_data"
    }
   ],
   "source": [
    "gauss_times = []\n",
    "inv_times = []\n",
    "dimensions = [10, 100, 500, 1000, 2000, 5000, 10000]\n",
    "n = 100\n",
    "for dim in dimensions:\n",
    "    A = np.random.rand(n, n)\n",
    "    B = np.random.rand(n, dim)\n",
    "    res_lib = %timeit -o gauss(A,B)\n",
    "    gauss_times.append(res_lib.best)\n",
    "    res_my = %timeit -o inv(A, B)\n",
    "    inv_times.append(res_my.best)\n",
    "\n",
    "plt.semilogy(dimensions, gauss_times, color='blue', label='gauss')\n",
    "plt.semilogy(dimensions, inv_times, color='red', label='inv')\n",
    "plt.title('Gauss vs Inverse')\n",
    "plt.ylabel('Time')\n",
    "plt.xlabel('Matrix dimension')\n",
    "plt.legend()"
   ]
  },
  {
   "cell_type": "markdown",
   "metadata": {
    "id": "iclko5PtrOga"
   },
   "source": [
    "### **Вывод из второго пункта**\n",
    "\n",
    "Из графика видно, что функция, отображающая время решения уравнения методом Гаусса, растет быстрее, чем функция, отображающия время решения уравнения методом умножения на обратную матрицу. При этом вначале видно, что метод Гаусса работал быстрее.\n",
    "\n",
    "Это означает, что при решении уравнений `AX = B`, где `B` - относительно небольшая матрица логичнее пользоваться методом Гаусса, а при больших размерах `B`  следует использовать метод умножения на обратую матрицу"
   ]
  },
  {
   "cell_type": "markdown",
   "metadata": {
    "id": "hRZy76aeBu9d"
   },
   "source": [
    "### **Общий вывод с асимптотиками**\n",
    "\n",
    "Логичнее использовать метод Гаусса при решении уравнений, где `m` сильно больше `n`, а метод умножения на обратную соответсвенно в противоположном случае.\n",
    "\n",
    "При использовании метода Гаусса асимптотика будет O(min(n, m)*nm)\n",
    "\n",
    "А при домножении на обратную - O($n^3$)\n",
    "\n",
    "Это объясняет, почему в первом случае метод Гаусса работает быстрее, а во втором - метод умножения на обратную матрицу. Действительно, когда мы увеличиваем `n` быстрее растет время решения методом домножения на обратную(ведь там $n^3$, а в методе гаусса максимум $n^2$). Во втором случае по аналогичным причинам бытрее растет время решения методом Гаусса.\n",
    "\n"
   ]
  }
 ],
 "metadata": {
  "colab": {
   "collapsed_sections": [
    "YaJV1GVyr-DE",
    "Dq9CP3Tvr-Dc",
    "jjJJYMLcr-Dv"
   ],
   "name": "Копия блокнота \"HSE Linalg Lab Fall 2021.ipynb\"",
   "provenance": []
  },
  "kernelspec": {
   "display_name": "Python 3",
   "language": "python",
   "name": "python3"
  },
  "language_info": {
   "codemirror_mode": {
    "name": "ipython",
    "version": 3
   },
   "file_extension": ".py",
   "mimetype": "text/x-python",
   "name": "python",
   "nbconvert_exporter": "python",
   "pygments_lexer": "ipython3",
   "version": "3.8.8"
  }
 },
 "nbformat": 4,
 "nbformat_minor": 1
}
